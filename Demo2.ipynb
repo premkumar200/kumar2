print("Hello sir")
print("tHIS IS SECOND LINE")
